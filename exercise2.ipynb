{
 "cells": [
  {
   "cell_type": "code",
   "execution_count": 1,
   "id": "98b57959-b5a1-42b9-9dbf-2149b20b9709",
   "metadata": {},
   "outputs": [],
   "source": [
    "import pandas as pd"
   ]
  },
  {
   "cell_type": "code",
   "execution_count": 82,
   "id": "b50025f4-b107-447e-a19f-b0a118de31ce",
   "metadata": {},
   "outputs": [],
   "source": [
    "products = pd.read_csv('Diwali_Sales_Data.csv',encoding='unicode_escape')"
   ]
  },
  {
   "cell_type": "markdown",
   "id": "593746d5-40bd-463c-b19a-b9d5727a86f5",
   "metadata": {},
   "source": [
    "# Queston 1\n",
    "For each product, in each age-group how many males and females are there"
   ]
  },
  {
   "cell_type": "code",
   "execution_count": 108,
   "id": "5f60762d-fb12-4a25-baaf-5d749c39b857",
   "metadata": {},
   "outputs": [],
   "source": [
    "df = products.groupby(['Product_ID','Age Group','Gender'])['User_ID'].count()"
   ]
  },
  {
   "cell_type": "code",
   "execution_count": 105,
   "id": "60ae9063-bd0f-4c97-b0ee-156d942115bb",
   "metadata": {},
   "outputs": [
    {
     "data": {
      "text/plain": [
       "Product_ID  Age Group  Gender\n",
       "P00000142   18-25      F         4\n",
       "                       M         2\n",
       "            26-35      F         5\n",
       "                       M         4\n",
       "            36-45      F         2\n",
       "                                ..\n",
       "P0099342    51-55      M         1\n",
       "P0099442    26-35      F         1\n",
       "                       M         2\n",
       "            36-45      M         1\n",
       "P0099742    0-17       F         1\n",
       "Name: User_ID, Length: 7194, dtype: int64"
      ]
     },
     "execution_count": 105,
     "metadata": {},
     "output_type": "execute_result"
    }
   ],
   "source": [
    "df"
   ]
  },
  {
   "cell_type": "code",
   "execution_count": 106,
   "id": "f4c372f5-4c35-4f0e-94a0-5908b0e8a414",
   "metadata": {},
   "outputs": [],
   "source": [
    "df.to_csv('test.csv')"
   ]
  },
  {
   "cell_type": "code",
   "execution_count": null,
   "id": "15a131fa-e779-46b1-8c9d-a4250d654dbe",
   "metadata": {},
   "outputs": [],
   "source": []
  },
  {
   "cell_type": "code",
   "execution_count": null,
   "id": "d90f3f48-e726-4b63-9da9-657f3c87401b",
   "metadata": {},
   "outputs": [],
   "source": []
  },
  {
   "cell_type": "code",
   "execution_count": null,
   "id": "cf6a19f4-573a-458f-983a-d313f301558d",
   "metadata": {},
   "outputs": [],
   "source": []
  },
  {
   "cell_type": "code",
   "execution_count": null,
   "id": "4f9b15b5-11c9-42d2-a0b9-63604268454a",
   "metadata": {},
   "outputs": [],
   "source": []
  },
  {
   "cell_type": "code",
   "execution_count": null,
   "id": "e4466063-49a3-4b58-a072-53de97802be2",
   "metadata": {},
   "outputs": [],
   "source": []
  },
  {
   "cell_type": "code",
   "execution_count": null,
   "id": "378bb0ee-5e1b-463c-af9d-e39fc6801acf",
   "metadata": {},
   "outputs": [],
   "source": []
  }
 ],
 "metadata": {
  "kernelspec": {
   "display_name": "Python 3 (ipykernel)",
   "language": "python",
   "name": "python3"
  },
  "language_info": {
   "codemirror_mode": {
    "name": "ipython",
    "version": 3
   },
   "file_extension": ".py",
   "mimetype": "text/x-python",
   "name": "python",
   "nbconvert_exporter": "python",
   "pygments_lexer": "ipython3",
   "version": "3.11.5"
  }
 },
 "nbformat": 4,
 "nbformat_minor": 5
}
